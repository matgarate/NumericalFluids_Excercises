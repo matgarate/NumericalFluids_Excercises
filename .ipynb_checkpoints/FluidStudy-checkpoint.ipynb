{
 "cells": [
  {
   "cell_type": "code",
   "execution_count": 1,
   "metadata": {
    "collapsed": true
   },
   "outputs": [],
   "source": [
    "import numpy as np\n",
    "import matplotlib.pyplot as plt\n",
    "import scipy\n",
    "%matplotlib inline"
   ]
  },
  {
   "cell_type": "code",
   "execution_count": 2,
   "metadata": {
    "collapsed": true
   },
   "outputs": [],
   "source": [
    "def InitialCondition_Heavyside(r, r0, Sigma0):\n",
    "    Sigma=Sigma0*np.heaviside(r0-r,0.5)\n",
    "    return Sigma\n",
    "    \n",
    "def InitialCondition_Delta(r,r0,Sigma0):\n",
    "    dr=r[1]-r[0]\n",
    "    Sigma=np.zeros(r.size)\n",
    "    delta= np.where(np.fabs(r-r0)<=dr)[0]\n",
    "    \n",
    "    Sigma[delta]=Sigma0* (1.0 - np.fabs(r-r0)[delta]/dr) \n",
    "    return Sigma\n",
    "    "
   ]
  },
  {
   "cell_type": "code",
   "execution_count": 3,
   "metadata": {
    "collapsed": true
   },
   "outputs": [],
   "source": [
    "def BoundaryCondition_BothSides(r, Sigma, boundary):\n",
    "    Sigma[0]=boundary\n",
    "    Sigma[-1]=boundary\n",
    "\n",
    "def BoundaryCondition_Inner(r,Sigma,boundary):\n",
    "    Sigma[0]=boundary\n",
    "\n",
    "def BoundaryCondition_Outer(r,Sigma,boundary):\n",
    "    Sigma[-1]=boundary"
   ]
  },
  {
   "cell_type": "code",
   "execution_count": 4,
   "metadata": {},
   "outputs": [],
   "source": [
    "def CFL_Condition_Diff(dr,Diffusion):\n",
    "    if Diffusion>0:\n",
    "        Courant_Diff= 0.3*dr*dr/Diffusion\n",
    "        return Courant_Diff\n",
    "    else:\n",
    "        return np.infty\n",
    "    \n",
    "def CFL_Condition_Vel(dr,u):\n",
    "    v_max=np.amax(u)\n",
    "    if v_max>0:\n",
    "        Courant_Vel= np.divide(0.3*dr,v_max)\n",
    "        return np.amin(Courant_Vel)\n",
    "    else:\n",
    "        return np.infty"
   ]
  },
  {
   "cell_type": "code",
   "execution_count": 5,
   "metadata": {
    "collapsed": true
   },
   "outputs": [],
   "source": [
    "def DonnorCell_Advection(r,q,u):\n",
    "    nr=r.size\n",
    "    dr=r[1]-r[0]\n",
    "    \n",
    "    u_05= 0.5*(u[0:nr-1]+u[1:nr]) #Velocity at the Interfaces\n",
    "    flux_05= np.zeros(nr-1)  #Flux at the interfaces\n",
    "    \n",
    "    positive=np.where(u_05>0)[0]  #Interfaces where the flux comes from the left\n",
    "    negative=np.where(u_05<0)[0]  #Interfaces where the flux comes from the right\n",
    "        \n",
    "    flux_05[positive]= np.multiply(q[positive], u_05[positive])\n",
    "    flux_05[negative]= np.multiply(q[negative+1], u_05[negative])\n",
    "    \n",
    "    q_flux=np.zeros(nr)\n",
    "    q_flux[1:nr-1]= (flux_05[0:nr-2]-flux_05[1:nr-1])/dr\n",
    "    \n",
    "    return q_flux\n",
    "    \n",
    "    "
   ]
  },
  {
   "cell_type": "code",
   "execution_count": 9,
   "metadata": {},
   "outputs": [],
   "source": [
    "nr=50\n",
    "r_min=0.0\n",
    "r_max=1.0\n",
    "\n",
    "t_start=0.0\n",
    "t_end=10.0\n",
    "dt=0.01\n",
    "\n",
    "t_output=(t_end-t_start)/5.0\n",
    "\n",
    "\n",
    "Sigma0=1.0\n",
    "Diffusion=0.0\n",
    "Velocity= 0.03\n",
    "r0=0.5\n",
    "\n",
    "\n",
    "dr=(r_max-r_min)/nr\n",
    "r=np.linspace(r_min+0.5*dr,r_max-0.5*dr,num=nr,endpoint=True)\n",
    "\n",
    "u=Velocity*np.ones(nr)\n",
    "Sigma=InitialCondition_Heavyside(r,r0,Sigma0)\n",
    "\n",
    "#Sigma=Sigma0*np.ones(nr)\n",
    "#u=Velocity*np.multiply(np.ones(nr),2*np.heaviside(r0-r,0.5)-1)\n"
   ]
  },
  {
   "cell_type": "code",
   "execution_count": 10,
   "metadata": {},
   "outputs": [],
   "source": [
    "t=t_start\n",
    "t_save=t_output\n",
    "\n",
    "Output_Dens=[]\n",
    "Output_Dens.append(np.copy(Sigma))\n",
    "\n",
    "while t<t_end:\n",
    "    \n",
    "    #Find the timestep using Courant Condition\n",
    "    dt_0=np.amin([dt,t_save,CFL_Condition_Diff(dr,Diffusion),CFL_Condition_Vel(dr,u)])\n",
    "    \n",
    "    #Evolve the Density\n",
    "    dsigma_dt=np.zeros(nr)\n",
    "    dsigma_dt[1:nr-1]+=(Sigma[2:nr]+Sigma[0:nr-2]-2.0*Sigma[1:nr-1])*Diffusion/(dr*dr)    \n",
    "    dsigma_dt+=DonnorCell_Advection(r,Sigma,u)\n",
    "    Sigma+=dsigma_dt*dt_0\n",
    "    \n",
    "    #Apply Boundary Conditions\n",
    "    #Notice that the cells 0 and nr-1 are treated as ghost cells and never touched except by the boundary conditions\n",
    "    #BoundaryCondition_BothSides(r,Sigma,0.0)\n",
    "    BoundaryCondition_Inner(r,Sigma,Sigma0)\n",
    "    BoundaryCondition_Outer(r,Sigma,0.0)\n",
    "    \n",
    "    \n",
    "    \n",
    "    \n",
    "    #Check if it is time to save\n",
    "    t_save-=dt_0\n",
    "    if t_save<=0.0:\n",
    "        t_save=t_output\n",
    "        Output_Dens.append(np.copy(Sigma))\n",
    "    #Update the Time\n",
    "    t+=dt_0"
   ]
  },
  {
   "cell_type": "code",
   "execution_count": 11,
   "metadata": {},
   "outputs": [
    {
     "data": {
      "image/png": "[encoded data removed]",
      "text/plain": [
       "<matplotlib.figure.Figure at 0x2c536de7a90>"
      ]
     },
     "metadata": {},
     "output_type": "display_data"
    }
   ],
   "source": [
    "plt.xlabel(\"r\")\n",
    "plt.ylabel(\"$\\mathdefault{\\Sigma}$\")\n",
    "plt.xlim([r_min,r_max])\n",
    "#plt.ylim([0.0,1.1])\n",
    "\n",
    "for s in range(len(Output_Dens)):\n",
    "    plt.plot(r,Output_Dens[s],label=\"t=\"+str(t_output*s))\n",
    "    plt.legend()"
   ]
  }
 ],
 "metadata": {
  "kernelspec": {
   "display_name": "Python 3",
   "language": "python",
   "name": "python3"
  },
  "language_info": {
   "codemirror_mode": {
    "name": "ipython",
    "version": 3
   },
   "file_extension": ".py",
   "mimetype": "text/x-python",
   "name": "python",
   "nbconvert_exporter": "python",
   "pygments_lexer": "ipython3",
   "version": "3.6.3"
  }
 },
 "nbformat": 4,
 "nbformat_minor": 2
}
