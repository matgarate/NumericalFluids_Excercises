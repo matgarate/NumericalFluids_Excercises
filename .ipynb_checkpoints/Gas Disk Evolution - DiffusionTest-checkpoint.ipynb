{
 "cells": [
  {
   "cell_type": "code",
   "execution_count": 2,
   "metadata": {
    "collapsed": true
   },
   "outputs": [],
   "source": [
    "import numpy as np\n",
    "import matplotlib.pyplot as plt\n",
    "from scipy.special import iv\n",
    "%matplotlib inline"
   ]
  },
  {
   "cell_type": "code",
   "execution_count": 3,
   "metadata": {
    "collapsed": true
   },
   "outputs": [],
   "source": [
    "def InitialCondition_Delta(r,r0,Sigma0):\n",
    "    dr=r[1]-r[0]\n",
    "    Sigma=np.zeros(r.size)\n",
    "    delta= np.where(np.fabs(r-r0)<=dr)[0]\n",
    "    \n",
    "    Sigma[delta]=Sigma0* (1.0 - np.fabs(r-r0)[delta]/dr) \n",
    "    return Sigma\n",
    "\n",
    "def InitialCondition_PowerLaw(r,r0,Sigma0,exp):\n",
    "    \n",
    "    return Sigma0*np.power(r/r0,exp)"
   ]
  },
  {
   "cell_type": "code",
   "execution_count": 4,
   "metadata": {
    "collapsed": true
   },
   "outputs": [],
   "source": [
    "def BoundaryCondition_InnerCopy(r,Sigma):\n",
    "    Sigma[0]=Sigma[1]\n",
    "    \n",
    "def BoundaryCondition_OuterCopy(r,Sigma):\n",
    "    Sigma[nr-1]=Sigma[nr-2]\n",
    "    \n",
    "\n",
    "def BoundaryCondition_Inner(r,Sigma,boundary):\n",
    "    Sigma[0]=boundary\n",
    "    \n",
    "def BoundaryCondition_Outer(r,Sigma,boundary):\n",
    "    Sigma[-1]=boundary    "
   ]
  },
  {
   "cell_type": "code",
   "execution_count": 5,
   "metadata": {
    "collapsed": true
   },
   "outputs": [],
   "source": [
    "def CFL_Condition_Diff(dr,Diffusion):\n",
    "    if Diffusion>0:\n",
    "        Courant_Diff= 0.3*dr*dr/Diffusion\n",
    "        return Courant_Diff\n",
    "    else:\n",
    "        return np.infty"
   ]
  },
  {
   "cell_type": "code",
   "execution_count": 6,
   "metadata": {
    "collapsed": true
   },
   "outputs": [],
   "source": [
    "def Compute_Diffusion(r,Sigma,visc):\n",
    "    #Following equation 5.8 in the diffusion form\n",
    "    '''\n",
    "    #This does NOT work!\n",
    "    dr=r[1]-r[0]\n",
    "    Diff=3.0*visc    \n",
    "    dq=np.zeros_like(q)    \n",
    "    dq[1:nr-1]= Diff*(q[2:nr] - 2.0*q[1:nr-1] + q[0:nr-2])/(dr*dr)\n",
    "    '''\n",
    "    \n",
    "    #This Works\n",
    "    s=2.0*np.sqrt(r)\n",
    "    q=np.multiply(Sigma,s)\n",
    "    \n",
    "    dq_dr2=np.zeros_like(q)\n",
    "    dq_dr2[1:nr-1]= np.divide(q[2:nr]-q[1:nr-1],s[2:nr]-s[1:nr-1]) - np.divide(q[1:nr-1]-q[0:nr-2],s[1:nr-1]-s[0:nr-2])\n",
    "    dq_dr2[1:nr-1]= 2.0*np.divide(dq_dr2[1:nr-1],s[2:nr]-s[0:nr-2])\n",
    "    \n",
    "    dSigma_dt=12.0*visc*np.divide(dq_dr2,np.power(s,3.0))\n",
    "    \n",
    "    return dSigma_dt\n",
    "    "
   ]
  },
  {
   "cell_type": "code",
   "execution_count": 14,
   "metadata": {
    "collapsed": true
   },
   "outputs": [],
   "source": [
    "def AnalyticalSolution(r,t,r0,m,visc):\n",
    "    x=r/r0\n",
    "    tau= t*12.0*visc/(r0*r0)\n",
    "    \n",
    "    return m/(np.pi*r0**2*tau)*x**(-0.25)*np.exp(-(1+x*x)/tau)*iv(0.25,2.*x/tau)\n",
    "    \n",
    "    #return m_disk/(np.pi*r0*r0)*(1.0/tau)*np.power(x,-0.25)*np.exp(-(1.0+np.square(x))/tau)*iv(0.25,2.0*x/tau)\n",
    "    \n",
    "    "
   ]
  },
  {
   "cell_type": "code",
   "execution_count": 35,
   "metadata": {
    "collapsed": true
   },
   "outputs": [],
   "source": [
    "Mstar=1.0           #Solar Mass\n",
    "r0=1.0              #AU\n",
    "visc=0.001          #Weird Units\n",
    "m_disk=0.01*Mstar   #Disk mass\n",
    "\n",
    "t_orbit=2.0*np.pi\n",
    "t_visc=r0*r0/(12.0*visc)\n",
    "\n",
    "nr=500\n",
    "r_min=0.01\n",
    "r_max=2.0\n",
    "\n",
    "dr=(r_max-r_min)/nr\n",
    "r=np.linspace(r_min+0.5*dr,r_max-0.5*dr,num=nr,endpoint=True)\n",
    "\n",
    "\n",
    "t_start=0.0*t_visc\n",
    "t_output=t_visc*np.power(2.0, 2.0*np.arange(1,6)-1.0)/1000.\n",
    "dt=0.0001*t_visc\n",
    "\n",
    "\n",
    "\n",
    "Sigma0=m_disk/(2.0*np.pi*r0*dr)\n",
    "Sigma=InitialCondition_Delta(r,r0,Sigma0)+0.0001*Sigma0\n",
    "#Sigma=InitialCondition_PowerLaw(r,r0,Sigma0,-1.5)\n",
    "\n",
    "floor_Sigma=np.amin(Sigma)"
   ]
  },
  {
   "cell_type": "code",
   "execution_count": 36,
   "metadata": {
    "collapsed": true
   },
   "outputs": [],
   "source": [
    "t=t_start\n",
    "t_save=t_output\n",
    "\n",
    "Output_Dens=[]\n",
    "Output_Dens.append(np.copy(Sigma))\n",
    "\n",
    "while t<t_end:\n",
    "    \n",
    "    #Find the timestep using Courant Condition\n",
    "    dt_0=np.amin([dt,t_output-t, CFL_Condition_Diff(dr,3.0*visc)])\n",
    "    \n",
    "    #Evolve the Density through Diffusion\n",
    "    dSigma_dt=Compute_Diffusion(r,Sigma,visc)\n",
    "    Sigma+=dSigma_dt*dt_0\n",
    "    \n",
    "    #Apply Boundary Conditions\n",
    "    #Notice that the cells 0 and nr-1 are treated as ghost cells and never touched except by the boundary conditions\n",
    "    #BoundaryCondition_BothSides(r,Sigma,0.0)\n",
    "    BoundaryCondition_InnerCopy(r,Sigma)\n",
    "    BoundaryCondition_Outer(r,Sigma,floor_Sigma)\n",
    "    \n",
    "    \n",
    "    \n",
    "    #Check if it is time to save\n",
    "    t+=dt_0\n",
    "    if t_output-t<=0.0:\n",
    "        t_output=t_output*4.0\n",
    "        Output_Dens.append(np.copy(Sigma))\n",
    "    #Update the Time\n"
   ]
  },
  {
   "cell_type": "code",
   "execution_count": 38,
   "metadata": {},
   "outputs": [
    {
     "name": "stderr",
     "output_type": "stream",
     "text": [
      "C:\\Users\\matga\\Anaconda3\\lib\\site-packages\\ipykernel_launcher.py:5: RuntimeWarning: invalid value encountered in multiply\n",
      "  \"\"\"\n"
     ]
    },
    {
     "data": {
      "image/png": "[encoded data removed]",
      "text/plain": [
       "<matplotlib.figure.Figure at 0x19cba79cf28>"
      ]
     },
     "metadata": {},
     "output_type": "display_data"
    },
    {
     "data": {
      "image/png": "[encoded data removed]",
      "text/plain": [
       "<matplotlib.figure.Figure at 0x19cba831748>"
      ]
     },
     "metadata": {},
     "output_type": "display_data"
    }
   ],
   "source": [
    "plt.figure(1)\n",
    "plt.xlabel(\"$\\mathdefault{r/r_0}$\")\n",
    "plt.ylabel(\"$\\mathdefault{\\pi R_0^2\\Sigma/m_{disk}}$\")\n",
    "plt.xlim([r_min,r_max])\n",
    "plt.ylim([0.0,6.0])\n",
    "\n",
    "plt.figure(2)\n",
    "plt.xlabel(\"$\\mathdefault{r/r_0}$\")\n",
    "plt.ylabel(\"Residuals\")\n",
    "plt.xlim([r_min,r_max])\n",
    "\n",
    "\n",
    "for s in range(1,len(Output_Dens)):\n",
    "    time=t_visc*2.0**(2.0*s-1.0)/1000.0\n",
    "    sigma_analytic=AnalyticalSolution(r,time,r0,m_disk,visc)\n",
    "    \n",
    "    plt.figure(1)\n",
    "    plt.plot(r/r0, np.pi*r0*r0*Output_Dens[s]/m_disk,label=\"t=\"+str(time/t_visc)+\" $\\mathdefault{t_0}$\" )\n",
    "    plt.plot(r/r0,sigma_analytic*np.pi*r0*r0/m_disk,'--')\n",
    "    plt.legend()\n",
    "\n",
    "    plt.figure(2)\n",
    "    plt.plot(r/r0,(Output_Dens[s]-sigma_analytic)*np.pi*r0*r0/m_disk,'--',label=\"t=\"+str(time/t_visc)+\" $\\mathdefault{t_0}$\" )\n",
    "    plt.legend()\n"
   ]
  },
  {
   "cell_type": "code",
   "execution_count": null,
   "metadata": {
    "collapsed": true
   },
   "outputs": [],
   "source": [
    "'''\n",
    "    \n",
    "    plt.plot(r/r0, np.pi*r0*r0*AnalyticalSolution(r,t_visc*2.0**(2.0*s-1.0)/1000.0,r0,m_disk,visc)/Sigma0,\"r--\")\n",
    "    plt.legend()\n",
    "'''"
   ]
  }
 ],
 "metadata": {
  "kernelspec": {
   "display_name": "Python 3",
   "language": "python",
   "name": "python3"
  },
  "language_info": {
   "codemirror_mode": {
    "name": "ipython",
    "version": 3
   },
   "file_extension": ".py",
   "mimetype": "text/x-python",
   "name": "python",
   "nbconvert_exporter": "python",
   "pygments_lexer": "ipython3",
   "version": "3.6.3"
  }
 },
 "nbformat": 4,
 "nbformat_minor": 2
}
