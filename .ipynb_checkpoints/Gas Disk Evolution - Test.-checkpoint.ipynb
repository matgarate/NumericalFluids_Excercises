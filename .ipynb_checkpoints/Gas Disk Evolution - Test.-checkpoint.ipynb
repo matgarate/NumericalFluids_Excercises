{
 "cells": [
  {
   "cell_type": "markdown",
   "metadata": {},
   "source": [
    "Evolution of a gas disk.\n",
    "Following equations 5.3 and 5.9 of \"Accretion Power in Astrophysics\"."
   ]
  },
  {
   "cell_type": "code",
   "execution_count": 1,
   "metadata": {
    "collapsed": true
   },
   "outputs": [],
   "source": [
    "import numpy as np\n",
    "import matplotlib.pyplot as plt\n",
    "from scipy.interpolate import interp1d\n",
    "%matplotlib inline"
   ]
  },
  {
   "cell_type": "code",
   "execution_count": 2,
   "metadata": {
    "collapsed": true
   },
   "outputs": [],
   "source": [
    "def InitialCondition_Delta(r,r0,Sigma0):\n",
    "    dr=r[1]-r[0]\n",
    "    Sigma=np.zeros(r.size)\n",
    "    delta= np.where(np.fabs(r-r0)<=dr)[0]\n",
    "    \n",
    "    Sigma[delta]=Sigma0* (1.0 - np.fabs(r-r0)[delta]/dr) \n",
    "    return Sigma"
   ]
  },
  {
   "cell_type": "code",
   "execution_count": 9,
   "metadata": {
    "collapsed": true
   },
   "outputs": [],
   "source": [
    "def BoundaryCondition_InnerCopy(r,Sigma):\n",
    "    Sigma[0]=Sigma[1]\n",
    "    \n",
    "def BoundaryCondition_OuterCopy(r,Sigma):\n",
    "    Sigma[nr-1]=Sigma[nr-2]"
   ]
  },
  {
   "cell_type": "code",
   "execution_count": 4,
   "metadata": {
    "collapsed": true
   },
   "outputs": [],
   "source": [
    "def CFL_Condition_Vel(dr,u):\n",
    "    v_max=np.amax(u)\n",
    "    if v_max>0:\n",
    "        Courant_Vel= np.divide(0.3*dr,v_max)\n",
    "        return np.amin(Courant_Vel)\n",
    "    else:\n",
    "        return np.infty"
   ]
  },
  {
   "cell_type": "code",
   "execution_count": 5,
   "metadata": {
    "collapsed": true
   },
   "outputs": [],
   "source": [
    "def Compute_Velocity(r,Sigma,visc):\n",
    "    nr=r.size\n",
    "    dr=r[1]-r[0]\n",
    "    Sigr= np.multiply(Sigma,np.sqrt(r))\n",
    "    \n",
    "    Sigr_05= 0.5*(Sigr[0:nr-1]+Sigr[1:nr])\n",
    "    d_Sigr_05= (Sigr[1:nr]-Sigr[0:nr-1])/dr\n",
    "    \n",
    "    return -3.0*visc*np.divide(d_Sigr_05,Sigr_05)\n",
    "    "
   ]
  },
  {
   "cell_type": "code",
   "execution_count": 6,
   "metadata": {
    "collapsed": true
   },
   "outputs": [],
   "source": [
    "def DonnorCell_Advection(r,q,u_05):\n",
    "    nr=r.size\n",
    "    dr=r[1]-r[0]\n",
    "    \n",
    "    #u_05= 0.5*(u[0:nr-1]+u[1:nr]) #Velocity at the Interfaces\n",
    "    flux_05= np.zeros(nr-1)  #Flux at the interfaces\n",
    "    \n",
    "    positive=np.where(u_05>0)[0]  #Interfaces where the flux comes from the left\n",
    "    negative=np.where(u_05<0)[0]  #Interfaces where the flux comes from the right\n",
    "        \n",
    "    flux_05[positive]= np.multiply(q[positive], u_05[positive])\n",
    "    flux_05[negative]= np.multiply(q[negative+1], u_05[negative])\n",
    "    \n",
    "    q_flux=np.zeros(nr)\n",
    "    q_flux[1:nr-1]= (flux_05[0:nr-2]-flux_05[1:nr-1])/dr\n",
    "    \n",
    "    return q_flux"
   ]
  },
  {
   "cell_type": "code",
   "execution_count": 7,
   "metadata": {},
   "outputs": [],
   "source": [
    "nr=50\n",
    "r_min=0.0\n",
    "r_max=1.0\n",
    "\n",
    "t_start=0.0\n",
    "t_end=10.0\n",
    "dt=0.01\n",
    "\n",
    "t_output=(t_end-t_start)/5.0\n",
    "\n",
    "Sigma0=1.0\n",
    "visc=0.001\n",
    "r0=0.5\n",
    "\n",
    "dr=(r_max-r_min)/nr\n",
    "r=np.linspace(r_min+0.5*dr,r_max-0.5*dr,num=nr,endpoint=True)\n",
    "\n",
    "Sigma=InitialCondition_Delta(r,r0,Sigma0)+0.0001*Sigma0\n",
    "u_05=Compute_Velocity(r,Sigma,visc)\n"
   ]
  },
  {
   "cell_type": "code",
   "execution_count": 10,
   "metadata": {},
   "outputs": [],
   "source": [
    "t=t_start\n",
    "t_save=t_output\n",
    "\n",
    "Output_Dens=[]\n",
    "Output_Dens.append(np.copy(Sigma))\n",
    "\n",
    "while t<t_end:\n",
    "    \n",
    "    #Find the timestep using Courant Condition\n",
    "    dt_0=np.amin([dt,t_save,CFL_Condition_Vel(dr,u_05)])\n",
    "    \n",
    "    #Evolve the Density*Radius through advection\n",
    "    Argument=np.multiply(r,Sigma)\n",
    "    dArg_dt=np.zeros(nr)    \n",
    "    dArg_dt+=DonnorCell_Advection(r,Argument,u_05)\n",
    "    Argument+=dArg_dt*dt_0\n",
    "    \n",
    "    Sigma=np.divide(Argument,r)\n",
    "    u_05=Compute_Velocity(r,Sigma,visc)\n",
    "    \n",
    "    #Apply Boundary Conditions\n",
    "    #Notice that the cells 0 and nr-1 are treated as ghost cells and never touched except by the boundary conditions\n",
    "    #BoundaryCondition_BothSides(r,Sigma,0.0)\n",
    "    BoundaryCondition_InnerCopy(r,Sigma)\n",
    "    BoundaryCondition_OuterCopy(r,Sigma)\n",
    "    \n",
    "    \n",
    "    \n",
    "    \n",
    "    #Check if it is time to save\n",
    "    t_save-=dt_0\n",
    "    if t_save<=0.0:\n",
    "        t_save=t_output\n",
    "        Output_Dens.append(np.copy(Sigma))\n",
    "    #Update the Time\n",
    "    t+=dt_0"
   ]
  },
  {
   "cell_type": "code",
   "execution_count": 11,
   "metadata": {
    "scrolled": true
   },
   "outputs": [
    {
     "data": {
      "image/png": "[encoded data removed]",
      "text/plain": [
       "<matplotlib.figure.Figure at 0x1741c340b00>"
      ]
     },
     "metadata": {},
     "output_type": "display_data"
    }
   ],
   "source": [
    "plt.xlabel(\"r\")\n",
    "plt.ylabel(\"$\\mathdefault{\\Sigma}$\")\n",
    "plt.xlim([r_min,r_max])\n",
    "#plt.ylim([0.0,1.1])\n",
    "\n",
    "for s in range(len(Output_Dens)):\n",
    "    plt.plot(r,Output_Dens[s],label=\"t=\"+str(t_output*s))\n",
    "    plt.legend()"
   ]
  },
  {
   "cell_type": "code",
   "execution_count": null,
   "metadata": {
    "collapsed": true
   },
   "outputs": [],
   "source": []
  }
 ],
 "metadata": {
  "kernelspec": {
   "display_name": "Python 3",
   "language": "python",
   "name": "python3"
  },
  "language_info": {
   "codemirror_mode": {
    "name": "ipython",
    "version": 3
   },
   "file_extension": ".py",
   "mimetype": "text/x-python",
   "name": "python",
   "nbconvert_exporter": "python",
   "pygments_lexer": "ipython3",
   "version": "3.6.3"
  }
 },
 "nbformat": 4,
 "nbformat_minor": 2
}
