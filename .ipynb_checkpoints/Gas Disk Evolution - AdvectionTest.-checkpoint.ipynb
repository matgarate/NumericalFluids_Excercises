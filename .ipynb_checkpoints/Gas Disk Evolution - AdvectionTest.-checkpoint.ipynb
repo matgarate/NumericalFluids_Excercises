{
 "cells": [
  {
   "cell_type": "markdown",
   "metadata": {},
   "source": [
    "Evolution of a gas disk.\n",
    "Following equations 5.3 and 5.9 of \"Accretion Power in Astrophysics\"."
   ]
  },
  {
   "cell_type": "code",
   "execution_count": 21,
   "metadata": {},
   "outputs": [
    {
     "name": "stdout",
     "output_type": "stream",
     "text": [
      "Using matplotlib backend: Qt5Agg\n"
     ]
    }
   ],
   "source": [
    "import numpy as np\n",
    "import matplotlib.pyplot as plt\n",
    "from scipy.interpolate import interp1d\n",
    "from scipy.special import *\n",
    "%matplotlib inline"
   ]
  },
  {
   "cell_type": "code",
   "execution_count": 12,
   "metadata": {
    "collapsed": true
   },
   "outputs": [],
   "source": [
    "def InitialCondition_Delta(r,r0,Sigma0):\n",
    "    dr=r[1]-r[0]\n",
    "    Sigma=np.zeros(r.size)\n",
    "    delta= np.where(np.fabs(r-r0)<=dr)[0]\n",
    "    \n",
    "    Sigma[delta]=Sigma0* (1.0 - np.fabs(r-r0)[delta]/dr) \n",
    "    return Sigma\n",
    "\n",
    "def InitialCondition_PowerLaw(r,r0,Sigma0,exp):\n",
    "    \n",
    "    return Sigma0*np.power(r/r0,exp)\n"
   ]
  },
  {
   "cell_type": "code",
   "execution_count": 13,
   "metadata": {
    "collapsed": true
   },
   "outputs": [],
   "source": [
    "def BoundaryCondition_InnerCopy(r,Sigma):\n",
    "    Sigma[0]=Sigma[1]\n",
    "    \n",
    "def BoundaryCondition_OuterCopy(r,Sigma):\n",
    "    Sigma[nr-1]=Sigma[nr-2]\n",
    "    \n",
    "\n",
    "def BoundaryCondition_Inner(r,Sigma,boundary):\n",
    "    Sigma[0]=boundary\n",
    "    \n",
    "def BoundaryCondition_Outer(r,Sigma,boundary):\n",
    "    Sigma[-1]=boundary    "
   ]
  },
  {
   "cell_type": "code",
   "execution_count": 14,
   "metadata": {
    "collapsed": true
   },
   "outputs": [],
   "source": [
    "def CFL_Condition_Vel(dr,u):\n",
    "    v_max=np.amax(u)\n",
    "    if v_max>0:\n",
    "        Courant_Vel= np.divide(0.1*dr,v_max)\n",
    "        return np.amin(Courant_Vel)\n",
    "    else:\n",
    "        return np.infty"
   ]
  },
  {
   "cell_type": "code",
   "execution_count": 15,
   "metadata": {
    "collapsed": true
   },
   "outputs": [],
   "source": [
    "def Compute_Velocity(r,Sigma,visc):\n",
    "    nr=r.size\n",
    "    dr=r[1]-r[0]\n",
    "    Sigr= np.multiply(Sigma,np.sqrt(r))\n",
    "    \n",
    "    r_05=0.5*(r[0:nr-1]+r[1:nr])\n",
    "    Sigr_05= 0.5*(Sigr[0:nr-1]+Sigr[1:nr])\n",
    "    d_Sigr_05= (Sigr[1:nr]-Sigr[0:nr-1])/dr\n",
    "\n",
    "    u_05 = -3.0*visc*np.divide(d_Sigr_05,Sigr_05)\n",
    "    u_inter=interp1d(r_05,u_05,kind=\"linear\",fill_value=\"extrapolate\")\n",
    "    \n",
    "    return u_inter(r)\n",
    "    \n",
    "    "
   ]
  },
  {
   "cell_type": "code",
   "execution_count": 16,
   "metadata": {
    "collapsed": true
   },
   "outputs": [],
   "source": [
    "def DonnorCell_Advection(r,q,u):\n",
    "    nr=r.size\n",
    "    dr=r[1]-r[0]\n",
    "    \n",
    "    u_05= 0.5*(u[0:nr-1]+u[1:nr]) #Velocity at the Interfaces\n",
    "    flux_05= np.zeros(nr-1)  #Flux at the interfaces\n",
    "    \n",
    "    positive=np.where(u_05>0)[0]  #Interfaces where the flux comes from the left\n",
    "    negative=np.where(u_05<0)[0]  #Interfaces where the flux comes from the right\n",
    "        \n",
    "    flux_05[positive]= np.multiply(q[positive], u_05[positive])\n",
    "    flux_05[negative]= np.multiply(q[negative+1], u_05[negative])\n",
    "    \n",
    "    q_flux=np.zeros(nr)\n",
    "    q_flux[1:nr-1]= (flux_05[0:nr-2]-flux_05[1:nr-1])/dr  #Notice that the cell 0 and nr-1 are ignored\n",
    "    \n",
    "    return q_flux"
   ]
  },
  {
   "cell_type": "code",
   "execution_count": 17,
   "metadata": {
    "collapsed": true
   },
   "outputs": [],
   "source": [
    "Mstar=1.0           #Solar Mass\n",
    "r0=1.0              #AU\n",
    "visc=0.001          #Weird Units\n",
    "m_disk=0.01*Mstar   #Disk mass\n",
    "\n",
    "t_orbit=2.0*np.pi\n",
    "t_visc=r0*r0/(12.0*visc)\n",
    "\n",
    "nr=500\n",
    "r_min=0.01\n",
    "r_max=2.0\n",
    "\n",
    "dr=(r_max-r_min)/nr\n",
    "r=np.linspace(r_min+0.5*dr,r_max-0.5*dr,num=nr,endpoint=True)\n",
    "\n",
    "t_start=0.0*t_visc\n",
    "t_end=0.512*t_visc\n",
    "dt=0.001*t_visc\n",
    "\n",
    "\n",
    "\n",
    "#t_output=np.power(2.0, np.array([1.0,3.0,5.0,7.0,9.0]))/1000.0\n",
    "#t_output=(t_end-t_start)/5.0\n",
    "t_output=0.002*t_visc\n",
    "\n",
    "\n",
    "\n",
    "Sigma0=m_disk/(2.0*np.pi*r0*dr)\n",
    "Sigma=InitialCondition_Delta(r,r0,Sigma0)+0.0001*Sigma0\n",
    "#Sigma=InitialCondition_PowerLaw(r,r0,Sigma0,-1.5)\n",
    "u=Compute_Velocity(r,Sigma,visc)\n",
    "\n",
    "floor_Sigma=np.amin(Sigma)\n",
    "\n"
   ]
  },
  {
   "cell_type": "code",
   "execution_count": 18,
   "metadata": {
    "collapsed": true
   },
   "outputs": [],
   "source": [
    "t=t_start\n",
    "t_save=t_output\n",
    "\n",
    "Output_Dens=[]\n",
    "Output_Dens.append(np.copy(Sigma))\n",
    "\n",
    "while t<t_end:\n",
    "    \n",
    "    #Find the timestep using Courant Condition\n",
    "    dt_0=np.amin([dt,t_output-t,CFL_Condition_Vel(dr,u)])\n",
    "    \n",
    "    #Evolve the Density*Radius through advection\n",
    "    Argument=np.multiply(r,Sigma)\n",
    "    dArg_dt=np.zeros(nr)    \n",
    "    dArg_dt+=DonnorCell_Advection(r,Argument,u)\n",
    "    Argument+=dArg_dt*dt_0\n",
    "    Sigma=np.divide(Argument,r)\n",
    "    \n",
    "    #Apply Boundary Conditions\n",
    "    #Notice that the cells 0 and nr-1 are treated as ghost cells and never touched except by the boundary conditions\n",
    "    #BoundaryCondition_BothSides(r,Sigma,0.0)\n",
    "    BoundaryCondition_InnerCopy(r,Sigma)\n",
    "    BoundaryCondition_Outer(r,Sigma,floor_Sigma)\n",
    "\n",
    "    u=Compute_Velocity(r,Sigma,visc)\n",
    "    \n",
    "    \n",
    "    \n",
    "    #Check if it is time to save\n",
    "    t+=dt_0\n",
    "    if t_output-t<=0.0:\n",
    "        t_output=t_output*4.0\n",
    "        Output_Dens.append(np.copy(Sigma))\n",
    "    #Update the Time\n"
   ]
  },
  {
   "cell_type": "code",
   "execution_count": 22,
   "metadata": {
    "scrolled": true
   },
   "outputs": [
    {
     "data": {
      "image/png": "[encoded data removed]",
      "text/plain": [
       "<matplotlib.figure.Figure at 0x29f4044d240>"
      ]
     },
     "metadata": {},
     "output_type": "display_data"
    }
   ],
   "source": [
    "plt.xlabel(\"$\\mathdefault{r/r_0}$\")\n",
    "plt.ylabel(\"$\\mathdefault{\\pi R_0^2\\Sigma/m_{disk}}$\")\n",
    "plt.xlim([r_min,r_max])\n",
    "#plt.ylim([0.0,0.01])\n",
    "\n",
    "#plt.plot(r/r0, Analytic_Density(r,0.00000001*t_output,r0,Sigma0,visc)/Sigma0,\"r--\",label=\"t=\"+str(np.around(t_output*s/t_orbit,decimals=1))+\" $\\mathdefault{t_0}$\" )\n",
    "    \n",
    "for s in range(1,len(Output_Dens)):\n",
    "    plt.plot(r/r0, np.pi*r0*r0*Output_Dens[s]/m_disk,label=\"t=\"+str(2.0**(2.0*s-1.0)/1000.0)+\" $\\mathdefault{t_0}$\" )\n",
    "    plt.legend()"
   ]
  }
 ],
 "metadata": {
  "kernelspec": {
   "display_name": "Python 3",
   "language": "python",
   "name": "python3"
  },
  "language_info": {
   "codemirror_mode": {
    "name": "ipython",
    "version": 3
   },
   "file_extension": ".py",
   "mimetype": "text/x-python",
   "name": "python",
   "nbconvert_exporter": "python",
   "pygments_lexer": "ipython3",
   "version": "3.6.3"
  }
 },
 "nbformat": 4,
 "nbformat_minor": 2
}
